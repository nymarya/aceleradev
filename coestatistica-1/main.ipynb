{
 "cells": [
  {
   "cell_type": "code",
   "execution_count": 1,
   "metadata": {
    "collapsed": true
   },
   "outputs": [],
   "source": [
    "import pandas as pd"
   ]
  },
  {
   "cell_type": "markdown",
   "source": [
    "## Module 3\n",
    "\n",
    "This week, the mais objective is to use statistics to get\n",
    "better insights during the data analysis.\n",
    "\n",
    "We start by taking a quick peek at the dataframe."
   ],
   "metadata": {
    "collapsed": false
   }
  },
  {
   "cell_type": "code",
   "execution_count": 2,
   "outputs": [
    {
     "name": "stdout",
     "output_type": "stream",
     "text": [
      "<class 'pandas.core.frame.DataFrame'>\n",
      "RangeIndex: 7000 entries, 0 to 6999\n",
      "Data columns (total 12 columns):\n",
      "RowNumber                   7000 non-null int64\n",
      "id                          7000 non-null object\n",
      "sobrenome                   7000 non-null object\n",
      "pontuacao_credito           7000 non-null int64\n",
      "estado_residencia           7000 non-null object\n",
      "genero                      7000 non-null object\n",
      "idade                       7000 non-null int64\n",
      "nivel_estabilidade          7000 non-null int64\n",
      "saldo_conta                 7000 non-null float64\n",
      "numero_produtos             7000 non-null int64\n",
      "possui_cartao_de_credito    7000 non-null int64\n",
      "membro_ativo                7000 non-null int64\n",
      "dtypes: float64(1), int64(7), object(4)\n",
      "memory usage: 656.3+ KB\n"
     ]
    }
   ],
   "source": [
    "consumers_df = pd.read_csv('desafio1.csv')\n",
    "\n",
    "consumers_df.info()"
   ],
   "metadata": {
    "collapsed": false,
    "pycharm": {
     "name": "#%%\n"
    }
   }
  },
  {
   "cell_type": "code",
   "execution_count": 3,
   "outputs": [
    {
     "data": {
      "text/plain": "         RowNumber  pontuacao_credito        idade  nivel_estabilidade  \\\ncount  7000.000000        7000.000000  7000.000000         7000.000000   \nmean   3500.500000         649.787000    38.892714            5.010286   \nstd    2020.870275          97.046279    10.465562            2.887500   \nmin       1.000000         350.000000    18.000000            0.000000   \n25%    1750.750000         582.000000    32.000000            3.000000   \n50%    3500.500000         651.000000    37.000000            5.000000   \n75%    5250.250000         717.000000    44.000000            7.250000   \nmax    7000.000000         850.000000    92.000000           10.000000   \n\n         saldo_conta  numero_produtos  possui_cartao_de_credito  membro_ativo  \ncount    7000.000000      7000.000000               7000.000000   7000.000000  \nmean    76471.883751         1.526000                  0.703286      0.512143  \nstd     62403.383911         0.583047                  0.456842      0.499888  \nmin         0.000000         1.000000                  0.000000      0.000000  \n25%         0.000000         1.000000                  0.000000      0.000000  \n50%     97277.130000         1.000000                  1.000000      1.000000  \n75%    127537.155000         2.000000                  1.000000      1.000000  \nmax    250898.090000         4.000000                  1.000000      1.000000  ",
      "text/html": "<div>\n<style scoped>\n    .dataframe tbody tr th:only-of-type {\n        vertical-align: middle;\n    }\n\n    .dataframe tbody tr th {\n        vertical-align: top;\n    }\n\n    .dataframe thead th {\n        text-align: right;\n    }\n</style>\n<table border=\"1\" class=\"dataframe\">\n  <thead>\n    <tr style=\"text-align: right;\">\n      <th></th>\n      <th>RowNumber</th>\n      <th>pontuacao_credito</th>\n      <th>idade</th>\n      <th>nivel_estabilidade</th>\n      <th>saldo_conta</th>\n      <th>numero_produtos</th>\n      <th>possui_cartao_de_credito</th>\n      <th>membro_ativo</th>\n    </tr>\n  </thead>\n  <tbody>\n    <tr>\n      <th>count</th>\n      <td>7000.000000</td>\n      <td>7000.000000</td>\n      <td>7000.000000</td>\n      <td>7000.000000</td>\n      <td>7000.000000</td>\n      <td>7000.000000</td>\n      <td>7000.000000</td>\n      <td>7000.000000</td>\n    </tr>\n    <tr>\n      <th>mean</th>\n      <td>3500.500000</td>\n      <td>649.787000</td>\n      <td>38.892714</td>\n      <td>5.010286</td>\n      <td>76471.883751</td>\n      <td>1.526000</td>\n      <td>0.703286</td>\n      <td>0.512143</td>\n    </tr>\n    <tr>\n      <th>std</th>\n      <td>2020.870275</td>\n      <td>97.046279</td>\n      <td>10.465562</td>\n      <td>2.887500</td>\n      <td>62403.383911</td>\n      <td>0.583047</td>\n      <td>0.456842</td>\n      <td>0.499888</td>\n    </tr>\n    <tr>\n      <th>min</th>\n      <td>1.000000</td>\n      <td>350.000000</td>\n      <td>18.000000</td>\n      <td>0.000000</td>\n      <td>0.000000</td>\n      <td>1.000000</td>\n      <td>0.000000</td>\n      <td>0.000000</td>\n    </tr>\n    <tr>\n      <th>25%</th>\n      <td>1750.750000</td>\n      <td>582.000000</td>\n      <td>32.000000</td>\n      <td>3.000000</td>\n      <td>0.000000</td>\n      <td>1.000000</td>\n      <td>0.000000</td>\n      <td>0.000000</td>\n    </tr>\n    <tr>\n      <th>50%</th>\n      <td>3500.500000</td>\n      <td>651.000000</td>\n      <td>37.000000</td>\n      <td>5.000000</td>\n      <td>97277.130000</td>\n      <td>1.000000</td>\n      <td>1.000000</td>\n      <td>1.000000</td>\n    </tr>\n    <tr>\n      <th>75%</th>\n      <td>5250.250000</td>\n      <td>717.000000</td>\n      <td>44.000000</td>\n      <td>7.250000</td>\n      <td>127537.155000</td>\n      <td>2.000000</td>\n      <td>1.000000</td>\n      <td>1.000000</td>\n    </tr>\n    <tr>\n      <th>max</th>\n      <td>7000.000000</td>\n      <td>850.000000</td>\n      <td>92.000000</td>\n      <td>10.000000</td>\n      <td>250898.090000</td>\n      <td>4.000000</td>\n      <td>1.000000</td>\n      <td>1.000000</td>\n    </tr>\n  </tbody>\n</table>\n</div>"
     },
     "execution_count": 3,
     "metadata": {},
     "output_type": "execute_result"
    }
   ],
   "source": [
    "consumers_df.describe()"
   ],
   "metadata": {
    "collapsed": false,
    "pycharm": {
     "name": "#%%\n"
    }
   }
  },
  {
   "cell_type": "code",
   "execution_count": 4,
   "outputs": [
    {
     "data": {
      "text/plain": "   RowNumber                                        id  \\\n0          1  e7f44fcbd380d4cef7e6c232cc7e37895c3fd197   \n1          2  28dcb083ad90512da16b9430085c2cddb8ca5e12   \n2          3  774bc378f787438c9c7594e536787d07a097a54b   \n3          4  043a71326f7096de155e7f0c559dc62b5e4b7239   \n4          5  37b3bb8ca243955fb3605ec7e1c2a4607cdb3b22   \n\n                                  sobrenome  pontuacao_credito  \\\n0  6d6e0aa1b9b413e442e2fb68df14b4fc3f91de50                619   \n1  48e1ad846796fa314f1b4a6702b83343eb5482c5                608   \n2  f2b29d5d934de615812b697132e767dea0f1e9e2                502   \n3  85d5c9da7cddd8109ad32a6c348fe2bb10bf99f2                699   \n4  ddc89c837a6933639de75f28171057060bd322df                850   \n\n  estado_residencia genero  idade  nivel_estabilidade  saldo_conta  \\\n0                SC      F     42                   2         0.00   \n1                RS      F     41                   1     83807.86   \n2                SC      F     42                   8    159660.80   \n3                SC      F     39                   1         0.00   \n4                RS      F     43                   2    125510.82   \n\n   numero_produtos  possui_cartao_de_credito  membro_ativo  \n0                1                         1             1  \n1                1                         0             1  \n2                3                         1             0  \n3                2                         0             0  \n4                1                         1             1  ",
      "text/html": "<div>\n<style scoped>\n    .dataframe tbody tr th:only-of-type {\n        vertical-align: middle;\n    }\n\n    .dataframe tbody tr th {\n        vertical-align: top;\n    }\n\n    .dataframe thead th {\n        text-align: right;\n    }\n</style>\n<table border=\"1\" class=\"dataframe\">\n  <thead>\n    <tr style=\"text-align: right;\">\n      <th></th>\n      <th>RowNumber</th>\n      <th>id</th>\n      <th>sobrenome</th>\n      <th>pontuacao_credito</th>\n      <th>estado_residencia</th>\n      <th>genero</th>\n      <th>idade</th>\n      <th>nivel_estabilidade</th>\n      <th>saldo_conta</th>\n      <th>numero_produtos</th>\n      <th>possui_cartao_de_credito</th>\n      <th>membro_ativo</th>\n    </tr>\n  </thead>\n  <tbody>\n    <tr>\n      <th>0</th>\n      <td>1</td>\n      <td>e7f44fcbd380d4cef7e6c232cc7e37895c3fd197</td>\n      <td>6d6e0aa1b9b413e442e2fb68df14b4fc3f91de50</td>\n      <td>619</td>\n      <td>SC</td>\n      <td>F</td>\n      <td>42</td>\n      <td>2</td>\n      <td>0.00</td>\n      <td>1</td>\n      <td>1</td>\n      <td>1</td>\n    </tr>\n    <tr>\n      <th>1</th>\n      <td>2</td>\n      <td>28dcb083ad90512da16b9430085c2cddb8ca5e12</td>\n      <td>48e1ad846796fa314f1b4a6702b83343eb5482c5</td>\n      <td>608</td>\n      <td>RS</td>\n      <td>F</td>\n      <td>41</td>\n      <td>1</td>\n      <td>83807.86</td>\n      <td>1</td>\n      <td>0</td>\n      <td>1</td>\n    </tr>\n    <tr>\n      <th>2</th>\n      <td>3</td>\n      <td>774bc378f787438c9c7594e536787d07a097a54b</td>\n      <td>f2b29d5d934de615812b697132e767dea0f1e9e2</td>\n      <td>502</td>\n      <td>SC</td>\n      <td>F</td>\n      <td>42</td>\n      <td>8</td>\n      <td>159660.80</td>\n      <td>3</td>\n      <td>1</td>\n      <td>0</td>\n    </tr>\n    <tr>\n      <th>3</th>\n      <td>4</td>\n      <td>043a71326f7096de155e7f0c559dc62b5e4b7239</td>\n      <td>85d5c9da7cddd8109ad32a6c348fe2bb10bf99f2</td>\n      <td>699</td>\n      <td>SC</td>\n      <td>F</td>\n      <td>39</td>\n      <td>1</td>\n      <td>0.00</td>\n      <td>2</td>\n      <td>0</td>\n      <td>0</td>\n    </tr>\n    <tr>\n      <th>4</th>\n      <td>5</td>\n      <td>37b3bb8ca243955fb3605ec7e1c2a4607cdb3b22</td>\n      <td>ddc89c837a6933639de75f28171057060bd322df</td>\n      <td>850</td>\n      <td>RS</td>\n      <td>F</td>\n      <td>43</td>\n      <td>2</td>\n      <td>125510.82</td>\n      <td>1</td>\n      <td>1</td>\n      <td>1</td>\n    </tr>\n  </tbody>\n</table>\n</div>"
     },
     "execution_count": 4,
     "metadata": {},
     "output_type": "execute_result"
    }
   ],
   "source": [
    "consumers_df.head()"
   ],
   "metadata": {
    "collapsed": false,
    "pycharm": {
     "name": "#%%\n"
    }
   }
  },
  {
   "cell_type": "code",
   "execution_count": 5,
   "outputs": [
    {
     "data": {
      "text/plain": "array(['SC', 'RS', 'PR'], dtype=object)"
     },
     "execution_count": 5,
     "metadata": {},
     "output_type": "execute_result"
    }
   ],
   "source": [
    "consumers_df.estado_residencia.unique()"
   ],
   "metadata": {
    "collapsed": false,
    "pycharm": {
     "name": "#%%\n"
    }
   }
  },
  {
   "cell_type": "markdown",
   "source": [
    "The first step is to split the consumers according to their respective states.\n",
    "Then, the aggregate metrics (mean, median, mode and standard deviation) must be calculated\n",
    "on the credit score."
   ],
   "metadata": {
    "collapsed": false
   }
  },
  {
   "cell_type": "code",
   "execution_count": 14,
   "outputs": [
    {
     "data": {
      "text/plain": "                  pontuacao_credito                                  \n                               moda mediana       media desvio_padrao\nestado_residencia                                                    \nPR                              850     650  648.961294     98.607186\nRS                              850     650  651.105143     95.136598\nSC                              850     653  649.537653     97.233493",
      "text/html": "<div>\n<style scoped>\n    .dataframe tbody tr th:only-of-type {\n        vertical-align: middle;\n    }\n\n    .dataframe tbody tr th {\n        vertical-align: top;\n    }\n\n    .dataframe thead tr th {\n        text-align: left;\n    }\n\n    .dataframe thead tr:last-of-type th {\n        text-align: right;\n    }\n</style>\n<table border=\"1\" class=\"dataframe\">\n  <thead>\n    <tr>\n      <th></th>\n      <th colspan=\"4\" halign=\"left\">pontuacao_credito</th>\n    </tr>\n    <tr>\n      <th></th>\n      <th>moda</th>\n      <th>mediana</th>\n      <th>media</th>\n      <th>desvio_padrao</th>\n    </tr>\n    <tr>\n      <th>estado_residencia</th>\n      <th></th>\n      <th></th>\n      <th></th>\n      <th></th>\n    </tr>\n  </thead>\n  <tbody>\n    <tr>\n      <th>PR</th>\n      <td>850</td>\n      <td>650</td>\n      <td>648.961294</td>\n      <td>98.607186</td>\n    </tr>\n    <tr>\n      <th>RS</th>\n      <td>850</td>\n      <td>650</td>\n      <td>651.105143</td>\n      <td>95.136598</td>\n    </tr>\n    <tr>\n      <th>SC</th>\n      <td>850</td>\n      <td>653</td>\n      <td>649.537653</td>\n      <td>97.233493</td>\n    </tr>\n  </tbody>\n</table>\n</div>"
     },
     "execution_count": 14,
     "metadata": {},
     "output_type": "execute_result"
    }
   ],
   "source": [
    "grouped_consumers = consumers_df.groupby('estado_residencia').agg({\n",
    "    'pontuacao_credito': [('moda', pd.Series.mode), ('mediana', 'median'),\n",
    "                          ('media', 'mean'),  ('desvio_padrao', 'std')]\n",
    "})\n",
    "\n",
    "grouped_consumers"
   ],
   "metadata": {
    "collapsed": false,
    "pycharm": {
     "name": "#%%\n"
    }
   }
  },
  {
   "cell_type": "markdown",
   "source": [
    "After aggregating the scores, the final step consists of generatin a json file\n",
    "with a structure similar to the following:\n",
    "```json\n",
    "{\"state\": {\"moda\": \"mode\", \"mediana\": \"median\",\n",
    "\"media\": \"mean\", \"desvio_padrao\": \"std\"}}\n",
    "```"
   ],
   "metadata": {
    "collapsed": false,
    "pycharm": {
     "name": "#%% md\n"
    }
   }
  },
  {
   "cell_type": "code",
   "execution_count": 21,
   "outputs": [
    {
     "data": {
      "text/plain": "                   moda  mediana       media  desvio_padrao\nestado_residencia                                          \nPR                  850      650  648.961294      98.607186\nRS                  850      650  651.105143      95.136598\nSC                  850      653  649.537653      97.233493",
      "text/html": "<div>\n<style scoped>\n    .dataframe tbody tr th:only-of-type {\n        vertical-align: middle;\n    }\n\n    .dataframe tbody tr th {\n        vertical-align: top;\n    }\n\n    .dataframe thead th {\n        text-align: right;\n    }\n</style>\n<table border=\"1\" class=\"dataframe\">\n  <thead>\n    <tr style=\"text-align: right;\">\n      <th></th>\n      <th>moda</th>\n      <th>mediana</th>\n      <th>media</th>\n      <th>desvio_padrao</th>\n    </tr>\n    <tr>\n      <th>estado_residencia</th>\n      <th></th>\n      <th></th>\n      <th></th>\n      <th></th>\n    </tr>\n  </thead>\n  <tbody>\n    <tr>\n      <th>PR</th>\n      <td>850</td>\n      <td>650</td>\n      <td>648.961294</td>\n      <td>98.607186</td>\n    </tr>\n    <tr>\n      <th>RS</th>\n      <td>850</td>\n      <td>650</td>\n      <td>651.105143</td>\n      <td>95.136598</td>\n    </tr>\n    <tr>\n      <th>SC</th>\n      <td>850</td>\n      <td>653</td>\n      <td>649.537653</td>\n      <td>97.233493</td>\n    </tr>\n  </tbody>\n</table>\n</div>"
     },
     "execution_count": 21,
     "metadata": {},
     "output_type": "execute_result"
    }
   ],
   "source": [
    "# flattening the columns by removing 'pontuacao_credito' index\n",
    "grouped_consumers.columns = grouped_consumers.columns.droplevel(0)\n",
    "grouped_consumers"
   ],
   "metadata": {
    "collapsed": false,
    "pycharm": {
     "name": "#%%\n"
    }
   }
  },
  {
   "cell_type": "code",
   "execution_count": 22,
   "outputs": [],
   "source": [
    "# parsing to json\n",
    "grouped_consumers.to_json('submission.json', orient='index')"
   ],
   "metadata": {
    "collapsed": false,
    "pycharm": {
     "name": "#%%\n"
    }
   }
  }
 ],
 "metadata": {
  "kernelspec": {
   "display_name": "Python 3",
   "language": "python",
   "name": "python3"
  },
  "language_info": {
   "codemirror_mode": {
    "name": "ipython",
    "version": 2
   },
   "file_extension": ".py",
   "mimetype": "text/x-python",
   "name": "python",
   "nbconvert_exporter": "python",
   "pygments_lexer": "ipython2",
   "version": "2.7.6"
  }
 },
 "nbformat": 4,
 "nbformat_minor": 0
}