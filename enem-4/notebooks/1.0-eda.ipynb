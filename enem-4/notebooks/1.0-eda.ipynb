{
 "cells": [
  {
   "cell_type": "code",
   "execution_count": 1,
   "metadata": {
    "collapsed": true
   },
   "outputs": [],
   "source": [
    "import pandas as pd\n",
    "import numpy as np\n",
    "import matplotlib.pyplot as plt"
   ]
  },
  {
   "cell_type": "code",
   "execution_count": 2,
   "outputs": [
    {
     "name": "stdout",
     "output_type": "stream",
     "text": [
      "<class 'pandas.core.frame.DataFrame'>\n",
      "Int64Index: 13730 entries, 1 to 4586\n",
      "Columns: 166 entries, NU_INSCRICAO to Q050\n",
      "dtypes: float64(28), int64(78), object(60)\n",
      "memory usage: 17.5+ MB\n"
     ]
    }
   ],
   "source": [
    "df = pd.read_csv('../train.csv', index_col='Unnamed: 0')\n",
    "\n",
    "df.info()"
   ],
   "metadata": {
    "collapsed": false,
    "pycharm": {
     "name": "#%%\n"
    }
   }
  },
  {
   "cell_type": "markdown",
   "source": [
    "Repeating simple preprocessing"
   ],
   "metadata": {
    "collapsed": false,
    "pycharm": {
     "name": "#%% md\n"
    }
   }
  },
  {
   "cell_type": "code",
   "execution_count": 3,
   "outputs": [
    {
     "name": "stdout",
     "output_type": "stream",
     "text": [
      "Droping columns with missing values\n",
      "Dropping columns with constant values\n",
      "Dropping columns correlated\n"
     ]
    },
    {
     "data": {
      "text/plain": "       CO_MUNICIPIO_RESIDENCIA  CO_UF_RESIDENCIA      NU_IDADE  \\\ncount             1.373000e+04      13730.000000  13730.000000   \nmean              3.088548e+06         30.736708     21.593809   \nstd               9.890495e+05          9.862405      7.043654   \nmin               1.100023e+06         11.000000     13.000000   \n25%               2.307650e+06         23.000000     17.000000   \n50%               3.118601e+06         31.000000     19.000000   \n75%               3.550308e+06         35.000000     23.000000   \nmax               5.300108e+06         53.000000     67.000000   \n\n       TP_ESTADO_CIVIL   TP_COR_RACA  TP_NACIONALIDADE  CO_UF_NASCIMENTO  \\\ncount     13202.000000  13730.000000      13730.000000      13121.000000   \nmean          0.116043      2.185652          1.048871         30.429159   \nstd           0.365986      1.007285          0.258895          9.670030   \nmin           0.000000      0.000000          0.000000         11.000000   \n25%           0.000000      1.000000          1.000000         23.000000   \n50%           0.000000      3.000000          1.000000         31.000000   \n75%           0.000000      3.000000          1.000000         35.000000   \nmax           3.000000      5.000000          4.000000         53.000000   \n\n       TP_ST_CONCLUSAO  TP_ANO_CONCLUIU     TP_ESCOLA      ...       \\\ncount     13730.000000     13730.000000  13730.000000      ...        \nmean          1.782666         2.146176      1.353532      ...        \nstd           0.880734         3.217328      0.558472      ...        \nmin           1.000000         0.000000      1.000000      ...        \n25%           1.000000         0.000000      1.000000      ...        \n50%           2.000000         0.000000      1.000000      ...        \n75%           2.000000         3.000000      2.000000      ...        \nmax           4.000000        10.000000      4.000000      ...        \n\n       NU_NOTA_COMP5  NU_NOTA_REDACAO          Q005          Q034  \\\ncount   10133.000000     10133.000000  13730.000000  13730.000000   \nmean       77.372446       529.048258      4.083467      4.645594   \nstd        43.067140       154.294758      1.603004      0.920998   \nmin         0.000000         0.000000      1.000000      0.000000   \n25%        40.000000       440.000000      3.000000      5.000000   \n50%        80.000000       540.000000      4.000000      5.000000   \n75%       100.000000       600.000000      5.000000      5.000000   \nmax       200.000000      1000.000000     20.000000      5.000000   \n\n               Q035          Q036          Q037          Q038          Q039  \\\ncount  13730.000000  13730.000000  13730.000000  13730.000000  13730.000000   \nmean       4.678441      3.341515      4.458995      3.724618      3.506409   \nstd        0.865039      1.711930      1.200172      1.689362      1.718858   \nmin        0.000000      0.000000      0.000000      0.000000      0.000000   \n25%        5.000000      2.000000      5.000000      3.000000      2.000000   \n50%        5.000000      4.000000      5.000000      5.000000      4.000000   \n75%        5.000000      5.000000      5.000000      5.000000      5.000000   \nmax        5.000000      5.000000      5.000000      5.000000      5.000000   \n\n               Q040  \ncount  13730.000000  \nmean       4.442098  \nstd        1.181549  \nmin        0.000000  \n25%        4.000000  \n50%        5.000000  \n75%        5.000000  \nmax        5.000000  \n\n[8 rows x 66 columns]",
      "text/html": "<div>\n<style scoped>\n    .dataframe tbody tr th:only-of-type {\n        vertical-align: middle;\n    }\n\n    .dataframe tbody tr th {\n        vertical-align: top;\n    }\n\n    .dataframe thead th {\n        text-align: right;\n    }\n</style>\n<table border=\"1\" class=\"dataframe\">\n  <thead>\n    <tr style=\"text-align: right;\">\n      <th></th>\n      <th>CO_MUNICIPIO_RESIDENCIA</th>\n      <th>CO_UF_RESIDENCIA</th>\n      <th>NU_IDADE</th>\n      <th>TP_ESTADO_CIVIL</th>\n      <th>TP_COR_RACA</th>\n      <th>TP_NACIONALIDADE</th>\n      <th>CO_UF_NASCIMENTO</th>\n      <th>TP_ST_CONCLUSAO</th>\n      <th>TP_ANO_CONCLUIU</th>\n      <th>TP_ESCOLA</th>\n      <th>...</th>\n      <th>NU_NOTA_COMP5</th>\n      <th>NU_NOTA_REDACAO</th>\n      <th>Q005</th>\n      <th>Q034</th>\n      <th>Q035</th>\n      <th>Q036</th>\n      <th>Q037</th>\n      <th>Q038</th>\n      <th>Q039</th>\n      <th>Q040</th>\n    </tr>\n  </thead>\n  <tbody>\n    <tr>\n      <th>count</th>\n      <td>1.373000e+04</td>\n      <td>13730.000000</td>\n      <td>13730.000000</td>\n      <td>13202.000000</td>\n      <td>13730.000000</td>\n      <td>13730.000000</td>\n      <td>13121.000000</td>\n      <td>13730.000000</td>\n      <td>13730.000000</td>\n      <td>13730.000000</td>\n      <td>...</td>\n      <td>10133.000000</td>\n      <td>10133.000000</td>\n      <td>13730.000000</td>\n      <td>13730.000000</td>\n      <td>13730.000000</td>\n      <td>13730.000000</td>\n      <td>13730.000000</td>\n      <td>13730.000000</td>\n      <td>13730.000000</td>\n      <td>13730.000000</td>\n    </tr>\n    <tr>\n      <th>mean</th>\n      <td>3.088548e+06</td>\n      <td>30.736708</td>\n      <td>21.593809</td>\n      <td>0.116043</td>\n      <td>2.185652</td>\n      <td>1.048871</td>\n      <td>30.429159</td>\n      <td>1.782666</td>\n      <td>2.146176</td>\n      <td>1.353532</td>\n      <td>...</td>\n      <td>77.372446</td>\n      <td>529.048258</td>\n      <td>4.083467</td>\n      <td>4.645594</td>\n      <td>4.678441</td>\n      <td>3.341515</td>\n      <td>4.458995</td>\n      <td>3.724618</td>\n      <td>3.506409</td>\n      <td>4.442098</td>\n    </tr>\n    <tr>\n      <th>std</th>\n      <td>9.890495e+05</td>\n      <td>9.862405</td>\n      <td>7.043654</td>\n      <td>0.365986</td>\n      <td>1.007285</td>\n      <td>0.258895</td>\n      <td>9.670030</td>\n      <td>0.880734</td>\n      <td>3.217328</td>\n      <td>0.558472</td>\n      <td>...</td>\n      <td>43.067140</td>\n      <td>154.294758</td>\n      <td>1.603004</td>\n      <td>0.920998</td>\n      <td>0.865039</td>\n      <td>1.711930</td>\n      <td>1.200172</td>\n      <td>1.689362</td>\n      <td>1.718858</td>\n      <td>1.181549</td>\n    </tr>\n    <tr>\n      <th>min</th>\n      <td>1.100023e+06</td>\n      <td>11.000000</td>\n      <td>13.000000</td>\n      <td>0.000000</td>\n      <td>0.000000</td>\n      <td>0.000000</td>\n      <td>11.000000</td>\n      <td>1.000000</td>\n      <td>0.000000</td>\n      <td>1.000000</td>\n      <td>...</td>\n      <td>0.000000</td>\n      <td>0.000000</td>\n      <td>1.000000</td>\n      <td>0.000000</td>\n      <td>0.000000</td>\n      <td>0.000000</td>\n      <td>0.000000</td>\n      <td>0.000000</td>\n      <td>0.000000</td>\n      <td>0.000000</td>\n    </tr>\n    <tr>\n      <th>25%</th>\n      <td>2.307650e+06</td>\n      <td>23.000000</td>\n      <td>17.000000</td>\n      <td>0.000000</td>\n      <td>1.000000</td>\n      <td>1.000000</td>\n      <td>23.000000</td>\n      <td>1.000000</td>\n      <td>0.000000</td>\n      <td>1.000000</td>\n      <td>...</td>\n      <td>40.000000</td>\n      <td>440.000000</td>\n      <td>3.000000</td>\n      <td>5.000000</td>\n      <td>5.000000</td>\n      <td>2.000000</td>\n      <td>5.000000</td>\n      <td>3.000000</td>\n      <td>2.000000</td>\n      <td>4.000000</td>\n    </tr>\n    <tr>\n      <th>50%</th>\n      <td>3.118601e+06</td>\n      <td>31.000000</td>\n      <td>19.000000</td>\n      <td>0.000000</td>\n      <td>3.000000</td>\n      <td>1.000000</td>\n      <td>31.000000</td>\n      <td>2.000000</td>\n      <td>0.000000</td>\n      <td>1.000000</td>\n      <td>...</td>\n      <td>80.000000</td>\n      <td>540.000000</td>\n      <td>4.000000</td>\n      <td>5.000000</td>\n      <td>5.000000</td>\n      <td>4.000000</td>\n      <td>5.000000</td>\n      <td>5.000000</td>\n      <td>4.000000</td>\n      <td>5.000000</td>\n    </tr>\n    <tr>\n      <th>75%</th>\n      <td>3.550308e+06</td>\n      <td>35.000000</td>\n      <td>23.000000</td>\n      <td>0.000000</td>\n      <td>3.000000</td>\n      <td>1.000000</td>\n      <td>35.000000</td>\n      <td>2.000000</td>\n      <td>3.000000</td>\n      <td>2.000000</td>\n      <td>...</td>\n      <td>100.000000</td>\n      <td>600.000000</td>\n      <td>5.000000</td>\n      <td>5.000000</td>\n      <td>5.000000</td>\n      <td>5.000000</td>\n      <td>5.000000</td>\n      <td>5.000000</td>\n      <td>5.000000</td>\n      <td>5.000000</td>\n    </tr>\n    <tr>\n      <th>max</th>\n      <td>5.300108e+06</td>\n      <td>53.000000</td>\n      <td>67.000000</td>\n      <td>3.000000</td>\n      <td>5.000000</td>\n      <td>4.000000</td>\n      <td>53.000000</td>\n      <td>4.000000</td>\n      <td>10.000000</td>\n      <td>4.000000</td>\n      <td>...</td>\n      <td>200.000000</td>\n      <td>1000.000000</td>\n      <td>20.000000</td>\n      <td>5.000000</td>\n      <td>5.000000</td>\n      <td>5.000000</td>\n      <td>5.000000</td>\n      <td>5.000000</td>\n      <td>5.000000</td>\n      <td>5.000000</td>\n    </tr>\n  </tbody>\n</table>\n<p>8 rows × 66 columns</p>\n</div>"
     },
     "execution_count": 3,
     "metadata": {},
     "output_type": "execute_result"
    }
   ],
   "source": [
    "correlated = ['NO_MUNICIPIO_ESC', 'NO_MUNICIPIO_RESIDENCIA',\n",
    "                           'CO_MUNICIPIO_NASCIMENTO', 'CO_MUNICIPIO_PROVA']\n",
    "print('Droping columns with missing values')\n",
    "df = df.loc[:, (df.isna().sum() / df.shape[0]) * 100 < 50]\n",
    "print('Dropping columns with constant values')\n",
    "df = df.loc[:, df.nunique() > 1]\n",
    "print('Dropping columns correlated')\n",
    "cols = df.columns[np.isin(df.columns, correlated)]\n",
    "df.drop(columns=cols, inplace=True)\n",
    "\n",
    "df.describe()"
   ],
   "metadata": {
    "collapsed": false,
    "pycharm": {
     "name": "#%%\n"
    }
   }
  },
  {
   "cell_type": "markdown",
   "source": [
    "Checking graduation year column"
   ],
   "metadata": {
    "collapsed": false,
    "pycharm": {
     "name": "#%% md\n"
    }
   }
  },
  {
   "cell_type": "code",
   "execution_count": 4,
   "outputs": [
    {
     "data": {
      "text/plain": "1    0.475164\n2    0.311945\n3    0.167953\n4    0.044938\nName: TP_ST_CONCLUSAO, dtype: float64"
     },
     "execution_count": 4,
     "metadata": {},
     "output_type": "execute_result"
    }
   ],
   "source": [
    "df.TP_ST_CONCLUSAO.value_counts(normalize=True)\n"
   ],
   "metadata": {
    "collapsed": false,
    "pycharm": {
     "name": "#%%\n"
    }
   }
  },
  {
   "cell_type": "code",
   "execution_count": 6,
   "outputs": [
    {
     "data": {
      "text/plain": "0"
     },
     "execution_count": 6,
     "metadata": {},
     "output_type": "execute_result"
    }
   ],
   "source": [
    "df.IN_TREINEIRO.value_counts(normalize=True)\n",
    "\n",
    "\n",
    "df.TP_ST_CONCLUSAO.isna().sum()"
   ],
   "metadata": {
    "collapsed": false,
    "pycharm": {
     "name": "#%%\n"
    }
   }
  }
 ],
 "metadata": {
  "kernelspec": {
   "display_name": "Python 3",
   "language": "python",
   "name": "python3"
  },
  "language_info": {
   "codemirror_mode": {
    "name": "ipython",
    "version": 2
   },
   "file_extension": ".py",
   "mimetype": "text/x-python",
   "name": "python",
   "nbconvert_exporter": "python",
   "pygments_lexer": "ipython2",
   "version": "2.7.6"
  }
 },
 "nbformat": 4,
 "nbformat_minor": 0
}